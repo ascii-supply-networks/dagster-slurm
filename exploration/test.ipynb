{
 "cells": [
  {
   "cell_type": "code",
   "execution_count": 40,
   "id": "d206f2cc",
   "metadata": {},
   "outputs": [],
   "source": [
    "import subprocess, time, re, os, shlex, shlex, textwrap\n",
    "\n",
    "\n",
    "CONTAINER_DATA_DIR = \"/data\"\n",
    "SERVICE_HINT = \"slurmctld\"\n",
    "POLL_INTERVAL = 2.0\n",
    "LOCAL_FILE = \"./test.py\"  # change if needed\n",
    "REMOTE_FILE = f\"{CONTAINER_DATA_DIR}/test.py\"\n"
   ]
  },
  {
   "cell_type": "code",
   "execution_count": 2,
   "id": "e277b0d0",
   "metadata": {},
   "outputs": [],
   "source": [
    "def run(cmd, input_bytes=None, check=True):\n",
    "    \"\"\"Run a shell command and return (stdout, stderr, rc).\"\"\"\n",
    "    p = subprocess.run(\n",
    "        cmd,\n",
    "        input=input_bytes,\n",
    "        stdout=subprocess.PIPE,\n",
    "        stderr=subprocess.PIPE,\n",
    "        check=False,\n",
    "    )\n",
    "    if check and p.returncode != 0:\n",
    "        raise RuntimeError(f\"cmd failed: {' '.join(cmd)}\\nstdout:\\n{p.stdout.decode()}\\nstderr:\\n{p.stderr.decode()}\")\n",
    "    return p.stdout.decode(), p.stderr.decode(), p.returncode\n",
    "\n",
    "def find_slurmctld_container():\n",
    "    out, _, _ = run([\"docker\", \"ps\", \"--format\", \"{{.Names}}\"])\n",
    "    names = [n for n in out.strip().splitlines() if SERVICE_HINT in n]\n",
    "    if not names:\n",
    "        raise RuntimeError(\"Could not find a running container with name containing 'slurmctld'. Is the cluster up?\")\n",
    "    # Prefer the first match\n",
    "    return names[0]"
   ]
  },
  {
   "cell_type": "code",
   "execution_count": 3,
   "id": "abb67c2f",
   "metadata": {},
   "outputs": [
    {
     "data": {
      "text/plain": [
       "'slurmctld'"
      ]
     },
     "execution_count": 3,
     "metadata": {},
     "output_type": "execute_result"
    }
   ],
   "source": [
    "container = find_slurmctld_container()\n",
    "container"
   ]
  },
  {
   "cell_type": "code",
   "execution_count": 4,
   "id": "60cfc2ef",
   "metadata": {},
   "outputs": [],
   "source": [
    "def dexec(container, inner_cmd, stdin_bytes=None):\n",
    "    \"\"\"docker exec (non-interactive, login shell)\"\"\"\n",
    "    cmd = [\"docker\", \"exec\", \"-i\", container, \"bash\", \"-lc\", inner_cmd]\n",
    "    return run(cmd, input_bytes=stdin_bytes)\n",
    "\n",
    "def ensure_dirs(container):\n",
    "    dexec(container, f\"mkdir -p {shlex.quote(CONTAINER_DATA_DIR)}/logs {shlex.quote(CONTAINER_DATA_DIR)}/results\")"
   ]
  },
  {
   "cell_type": "code",
   "execution_count": 5,
   "id": "7d88f7cf",
   "metadata": {},
   "outputs": [],
   "source": [
    "ensure_dirs(container)"
   ]
  },
  {
   "cell_type": "code",
   "execution_count": 18,
   "id": "718ee88a",
   "metadata": {},
   "outputs": [],
   "source": [
    "def current_partition(container):\n",
    "    out, _, _ = dexec(container, \"sinfo -h -o '%P' | head -n1\")\n",
    "    p = out.strip()\n",
    "    if not p:\n",
    "        return None\n",
    "    # take first entry, drop commas/spaces and trailing '*'\n",
    "    p = p.split()[0].split(',')[0].rstrip('*')\n",
    "    return p or None"
   ]
  },
  {
   "cell_type": "code",
   "execution_count": 7,
   "id": "9c3045a9",
   "metadata": {},
   "outputs": [
    {
     "name": "stdout",
     "output_type": "stream",
     "text": [
      "Using controller container: slurmctld\n",
      "Using partition: normal*\n"
     ]
    }
   ],
   "source": [
    "part = current_partition(container) or None\n",
    "print(f\"Using controller container: {container}\")\n",
    "print(f\"Using partition: {part or '(default)'}\")"
   ]
  },
  {
   "cell_type": "code",
   "execution_count": 19,
   "id": "7763ce3c",
   "metadata": {},
   "outputs": [],
   "source": [
    "def submit_job(container, job_name=\"hello_py\", minutes=1, partition=None, cpus=1, mem_mb=256):\n",
    "    if partition:\n",
    "        partition = partition.split(',')[0].rstrip('*').strip()\n",
    "        if not partition:\n",
    "            partition = None\n",
    "            \n",
    "    script = textwrap.dedent(f\"\"\"\\\n",
    "        #!/bin/bash\n",
    "        #SBATCH -J {job_name}\n",
    "        #SBATCH -D /data\n",
    "        #SBATCH -o /data/logs/slurm-%j.out\n",
    "        #SBATCH -e /data/logs/slurm-%j.err\n",
    "        #SBATCH -t 00:{minutes:02d}:00\n",
    "        #SBATCH -c {cpus}\n",
    "        #SBATCH --mem={mem_mb}\n",
    "        {f\"#SBATCH -p {partition}\" if partition else \"\"}\n",
    "        set -euo pipefail\n",
    "        echo \"Running on: $(hostname)\"\n",
    "        echo \"SLURM_JOB_ID=$SLURM_JOB_ID\"\n",
    "        echo \"pwd=$(pwd)\"\n",
    "        mkdir -p /data/results\n",
    "        echo \"$(date) : hello from Slurm job $SLURM_JOB_ID\" > /data/results/{job_name}_$SLURM_JOB_ID.txt\n",
    "        sleep 1\n",
    "        \"\"\")\n",
    "    out, err, _ = dexec(\n",
    "        container,\n",
    "        'f=\"/tmp/job_$RANDOM_$RANDOM.sbatch\"; cat >\"$f\"; chmod +x \"$f\"; sbatch \"$f\"',\n",
    "        stdin_bytes=script.encode(),\n",
    "    )\n",
    "    m = re.search(r\"Submitted batch job (\\d+)\", out)\n",
    "    if not m:\n",
    "        raise RuntimeError(f\"Could not parse job id.\\nstdout:\\n{out}\\nstderr:\\n{err}\")\n",
    "    return int(m.group(1))"
   ]
  },
  {
   "cell_type": "code",
   "execution_count": 20,
   "id": "15fdfaac",
   "metadata": {},
   "outputs": [
    {
     "name": "stdout",
     "output_type": "stream",
     "text": [
      "Submitted job 6\n"
     ]
    }
   ],
   "source": [
    "job_name = \"hello_py\"\n",
    "job_id = submit_job(container, job_name=job_name, minutes=1, partition=part, cpus=1, mem_mb=256)\n",
    "print(f\"Submitted job {job_id}\")\n"
   ]
  },
  {
   "cell_type": "code",
   "execution_count": 21,
   "id": "1bb305f5",
   "metadata": {},
   "outputs": [],
   "source": [
    "def job_state(container, job_id):\n",
    "    # 1) if present in squeue, return its live state\n",
    "    out, _, _ = dexec(container, f\"squeue -h -j {job_id} -o '%T'\")\n",
    "    state = out.strip()\n",
    "    if state:\n",
    "        return state  # e.g., PENDING, RUNNING\n",
    "    # 2) try sacct for a terminal state (requires accounting to be registered)\n",
    "    out, _, rc = dexec(container, f\"sacct -X -n -j {job_id} -o State%20\",)\n",
    "    if rc == 0 and out.strip():\n",
    "        return out.strip().splitlines()[0].strip()\n",
    "    return \"COMPLETED?\"  # fallback when sacct is not available\n",
    "\n",
    "def wait_for_completion(container, job_id):\n",
    "    while True:\n",
    "        st = job_state(container, job_id)\n",
    "        if st in (\"PENDING\", \"RUNNING\", \"COMPLETING\", \"CONFIGURING\"):\n",
    "            time.sleep(POLL_INTERVAL)\n",
    "            continue\n",
    "        return st\n"
   ]
  },
  {
   "cell_type": "code",
   "execution_count": 22,
   "id": "eb3f3e9b",
   "metadata": {},
   "outputs": [
    {
     "name": "stdout",
     "output_type": "stream",
     "text": [
      "Job 6 finished with state: COMPLETED\n"
     ]
    }
   ],
   "source": [
    "final_state = wait_for_completion(container, job_id)\n",
    "print(f\"Job {job_id} finished with state: {final_state}\")"
   ]
  },
  {
   "cell_type": "code",
   "execution_count": 30,
   "id": "43b6b6b2",
   "metadata": {},
   "outputs": [],
   "source": [
    "def get_job_node(container, job_id):\n",
    "    # Try sacct first\n",
    "    out, _, _ = dexec(container, f\"sacct -X -n -j {job_id} -o NodeList\")\n",
    "    node = out.strip().split(\",\")[0] if out.strip() else \"\"\n",
    "    if node:\n",
    "        return node\n",
    "    # Fallback to scontrol\n",
    "    out, _, _ = dexec(container, f\"scontrol show job {job_id}\")\n",
    "    m = re.search(r\"BatchHost=(\\S+)\", out) or re.search(r\"Nodes?=(\\S+)\", out)\n",
    "    return m.group(1) if m else \"\""
   ]
  },
  {
   "cell_type": "code",
   "execution_count": 32,
   "id": "efaf3fb0",
   "metadata": {},
   "outputs": [],
   "source": [
    "def tail_job_output(container, job_id, n=50, which=\"out\"):\n",
    "    ext = \"err\" if which == \"err\" else \"out\"\n",
    "    path = f\"{CONTAINER_DATA_DIR}/logs/slurm-{job_id}.{ext}\"\n",
    "    # Try controller first\n",
    "    out, _, _ = dexec(container, f\"test -f {shlex.quote(path)} && tail -n {n} {shlex.quote(path)} || echo __MISSING__\")\n",
    "    if \"__MISSING__\" not in out:\n",
    "        return out\n",
    "    # Fall back to the node the job ran on\n",
    "    node = get_job_node(container, job_id)\n",
    "    if not node:\n",
    "        return f\"(stdout path {path} missing and job node unknown)\"\n",
    "    o, e, rc = run([\"docker\",\"exec\",\"-i\",node,\"bash\",\"-lc\", f\"tail -n {n} {shlex.quote(path)} || echo '(not found on node either)'\"])\n",
    "    return o"
   ]
  },
  {
   "cell_type": "code",
   "execution_count": 34,
   "id": "83342675",
   "metadata": {},
   "outputs": [
    {
     "name": "stdout",
     "output_type": "stream",
     "text": [
      "\n",
      "=== Job stdout (tail) ===\n",
      "Running on: c1\n",
      "SLURM_JOB_ID=6\n",
      "pwd=/data\n",
      "\n",
      "\n",
      "=== Job stderr (tail) ===\n",
      "\n",
      "\n",
      "Check your mount for files under 'results/' and 'logs/'.\n"
     ]
    }
   ],
   "source": [
    "print(\"\\n=== Job stdout (tail) ===\")\n",
    "print(tail_job_output(container, job_id, n=50))\n",
    "\n",
    "print(\"\\n=== Job stderr (tail) ===\")\n",
    "print(tail_job_output(container, job_id, n=50, which=\"err\"))\n",
    "\n",
    "print(\"\\nCheck your mount for files under 'results/' and 'logs/'.\")\n"
   ]
  },
  {
   "cell_type": "code",
   "execution_count": 35,
   "id": "f1a75047",
   "metadata": {},
   "outputs": [],
   "source": [
    "def submit_existing_file(container, path_in_container, job_name=\"job\", minutes=2, cpus=1, mem_mb=512, args=None, partition=None):\n",
    "    # sanitize partition (avoid trailing '*')\n",
    "    if partition:\n",
    "        partition = partition.split(',')[0].rstrip('*').strip() or None\n",
    "    argstr = \" \".join(shlex.quote(a) for a in (args or []))\n",
    "    opts = [\n",
    "        \"-J\", job_name,\n",
    "        \"-D\", \"/data\",\n",
    "        \"-o\", f\"/data/logs/{job_name}-%j.out\",\n",
    "        \"-e\", f\"/data/logs/{job_name}-%j.err\",\n",
    "        \"-t\", f\"00:{minutes:02d}:00\",\n",
    "        \"-c\", str(cpus),\n",
    "        f\"--mem={mem_mb}\",\n",
    "    ]\n",
    "    if partition:\n",
    "        opts += [\"-p\", partition]\n",
    "    cmd = \"sbatch \" + \" \".join(shlex.quote(x) for x in opts) + \" --wrap \" + shlex.quote(f\"/usr/bin/python3 {path_in_container} {argstr}\")\n",
    "    out, err, _ = dexec(container, cmd)\n",
    "    m = re.search(r\"Submitted batch job (\\d+)\", out)\n",
    "    if not m:\n",
    "        raise RuntimeError(f\"Could not parse job id.\\nstdout:\\n{out}\\nstderr:\\n{err}\")\n",
    "    return int(m.group(1))"
   ]
  },
  {
   "cell_type": "code",
   "execution_count": 36,
   "id": "a1cf7361",
   "metadata": {},
   "outputs": [],
   "source": [
    "def tail_logs(container, job_name, job_id, n=50):\n",
    "    out_path = f\"/data/logs/{job_name}-{job_id}.out\"\n",
    "    err_path = f\"/data/logs/{job_name}-{job_id}.err\"\n",
    "    out_txt, _, _ = dexec(container, f\"test -f {shlex.quote(out_path)} && tail -n {n} {shlex.quote(out_path)} || echo '(no stdout yet)'\")\n",
    "    err_txt, _, _ = dexec(container, f\"test -f {shlex.quote(err_path)} && tail -n {n} {shlex.quote(err_path)} || echo '(no stderr yet)'\")\n",
    "    return out_txt, err_txt"
   ]
  },
  {
   "cell_type": "code",
   "execution_count": 37,
   "id": "0d2f5e9f",
   "metadata": {},
   "outputs": [],
   "source": [
    "def put_file(container, local_path, remote_path):\n",
    "    local_path = os.path.abspath(local_path)\n",
    "    if not os.path.isfile(local_path):\n",
    "        raise FileNotFoundError(local_path)\n",
    "    remote_dir = os.path.dirname(remote_path) or \"/\"\n",
    "    dexec(container, f\"mkdir -p {shlex.quote(remote_dir)}\")\n",
    "    # copy the file into the container\n",
    "    run([\"docker\", \"cp\", local_path, f\"{container}:{remote_path}\"])\n",
    "    # normalize line endings just in case, and make it readable\n",
    "    dexec(container, f\"sed -i 's/\\\\r$//' {shlex.quote(remote_path)}; chmod a+r {shlex.quote(remote_path)}\")\n"
   ]
  },
  {
   "cell_type": "code",
   "execution_count": 38,
   "id": "53f8f0bc",
   "metadata": {},
   "outputs": [],
   "source": [
    "def ensure_shared_dirs(container):\n",
    "    dexec(container, \"mkdir -p /data/logs /data/results && chmod 1777 /data/logs /data/results\")"
   ]
  },
  {
   "cell_type": "code",
   "execution_count": 41,
   "id": "42b8a601",
   "metadata": {},
   "outputs": [],
   "source": [
    "ensure_shared_dirs(container)"
   ]
  },
  {
   "cell_type": "code",
   "execution_count": 42,
   "id": "aa95aca7",
   "metadata": {},
   "outputs": [],
   "source": [
    "put_file(container, LOCAL_FILE, REMOTE_FILE)"
   ]
  },
  {
   "cell_type": "code",
   "execution_count": 39,
   "id": "28a951fb",
   "metadata": {},
   "outputs": [],
   "source": [
    "\n",
    "def sanitize_partition(p):\n",
    "    if not p:\n",
    "        return None\n",
    "    p = p.split(\",\")[0].rstrip(\"*\").strip()\n",
    "    return p or None\n"
   ]
  },
  {
   "cell_type": "code",
   "execution_count": 43,
   "id": "426e1af6",
   "metadata": {},
   "outputs": [],
   "source": [
    "out, _, _ = dexec(container, \"sinfo -h -o '%P' | head -n1\")\n",
    "partition = sanitize_partition(out.strip())"
   ]
  },
  {
   "cell_type": "code",
   "execution_count": 46,
   "id": "6c6638a3",
   "metadata": {},
   "outputs": [],
   "source": [
    "def detect_partition(container):\n",
    "    out, _, _ = dexec(container, \"sinfo -h -o '%P' | head -n1\")\n",
    "    raw = out.strip()\n",
    "    clean = raw.split(',')[0].rstrip('*').strip() or None\n",
    "    print(\"Using partition:\", clean or \"(default)\")\n",
    "    return clean\n",
    "def fetch_artifacts_to_host(container, local_dir=\"./artifacts\"):\n",
    "    os.makedirs(local_dir, exist_ok=True)\n",
    "    run([\"docker\",\"cp\", f\"{container}:/data/logs\", os.path.join(local_dir,\"logs\")])\n",
    "    run([\"docker\",\"cp\", f\"{container}:/data/results\", os.path.join(local_dir,\"results\")])\n",
    "    "
   ]
  },
  {
   "cell_type": "code",
   "execution_count": 48,
   "id": "ac79078f",
   "metadata": {},
   "outputs": [],
   "source": [
    "fetch_artifacts_to_host(container)"
   ]
  },
  {
   "cell_type": "code",
   "execution_count": 44,
   "id": "9a7dfbd3",
   "metadata": {},
   "outputs": [
    {
     "name": "stdout",
     "output_type": "stream",
     "text": [
      "submitted job: 7\n",
      "final state: COMPLETED\n",
      "\n",
      "=== stdout ===\n",
      " Wrote: /data/results/hello_7_0.json\n",
      "Wrote: /data/results/hello_7_0.txt\n",
      "Listing of /data: logs, results, slurm-1.out, test.py\n",
      "\n",
      "\n",
      "=== stderr ===\n",
      " \n",
      "\n",
      "Check /data/results for output files.\n"
     ]
    }
   ],
   "source": [
    "jid = submit_existing_file(container, REMOTE_FILE, job_name=\"hello\", minutes=1, cpus=1, mem_mb=256, args=[\"--message\", \"hello\"], partition=partition)\n",
    "print(\"submitted job:\", jid)\n",
    "state = wait_for_completion(container, jid)\n",
    "print(\"final state:\", state)\n",
    "out_txt, err_txt = tail_logs(container, \"hello\", jid)\n",
    "print(\"\\n=== stdout ===\\n\", out_txt)\n",
    "print(\"\\n=== stderr ===\\n\", err_txt)\n",
    "print(\"\\nCheck /data/results for output files.\")"
   ]
  }
 ],
 "metadata": {
  "kernelspec": {
   "display_name": "explore",
   "language": "python",
   "name": "python3"
  },
  "language_info": {
   "codemirror_mode": {
    "name": "ipython",
    "version": 3
   },
   "file_extension": ".py",
   "mimetype": "text/x-python",
   "name": "python",
   "nbconvert_exporter": "python",
   "pygments_lexer": "ipython3",
   "version": "3.12.11"
  }
 },
 "nbformat": 4,
 "nbformat_minor": 5
}
